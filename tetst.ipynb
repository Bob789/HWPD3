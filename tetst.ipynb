{
 "cells": [
  {
   "cell_type": "markdown",
   "metadata": {},
   "source": []
  },
  {
   "cell_type": "code",
   "execution_count": 3,
   "metadata": {},
   "outputs": [],
   "source": [
    "import numpy as np\n",
    "from IPython.display import display\n",
    "import pandas as pd\n"
   ]
  },
  {
   "cell_type": "markdown",
   "metadata": {},
   "source": [
    "שאלה 1: יצירת DataFrame עם ערכים רנדומליים\n",
    "צרו DataFrame בגודל 5x4 עם ערכים רנדומליים בין 1 ל-100 באמצעות NumPy."
   ]
  },
  {
   "cell_type": "code",
   "execution_count": 4,
   "metadata": {},
   "outputs": [
    {
     "data": {
      "text/html": [
       "<div>\n",
       "<style scoped>\n",
       "    .dataframe tbody tr th:only-of-type {\n",
       "        vertical-align: middle;\n",
       "    }\n",
       "\n",
       "    .dataframe tbody tr th {\n",
       "        vertical-align: top;\n",
       "    }\n",
       "\n",
       "    .dataframe thead th {\n",
       "        text-align: right;\n",
       "    }\n",
       "</style>\n",
       "<table border=\"1\" class=\"dataframe\">\n",
       "  <thead>\n",
       "    <tr style=\"text-align: right;\">\n",
       "      <th></th>\n",
       "      <th>A</th>\n",
       "      <th>B</th>\n",
       "      <th>C</th>\n",
       "      <th>D</th>\n",
       "    </tr>\n",
       "  </thead>\n",
       "  <tbody>\n",
       "    <tr>\n",
       "      <th>L1</th>\n",
       "      <td>9</td>\n",
       "      <td>25</td>\n",
       "      <td>68</td>\n",
       "      <td>88</td>\n",
       "    </tr>\n",
       "    <tr>\n",
       "      <th>L2</th>\n",
       "      <td>80</td>\n",
       "      <td>49</td>\n",
       "      <td>11</td>\n",
       "      <td>95</td>\n",
       "    </tr>\n",
       "    <tr>\n",
       "      <th>L3</th>\n",
       "      <td>53</td>\n",
       "      <td>99</td>\n",
       "      <td>54</td>\n",
       "      <td>67</td>\n",
       "    </tr>\n",
       "    <tr>\n",
       "      <th>L4</th>\n",
       "      <td>99</td>\n",
       "      <td>15</td>\n",
       "      <td>35</td>\n",
       "      <td>25</td>\n",
       "    </tr>\n",
       "    <tr>\n",
       "      <th>L5</th>\n",
       "      <td>16</td>\n",
       "      <td>61</td>\n",
       "      <td>59</td>\n",
       "      <td>17</td>\n",
       "    </tr>\n",
       "  </tbody>\n",
       "</table>\n",
       "</div>"
      ],
      "text/plain": [
       "     A   B   C   D\n",
       "L1   9  25  68  88\n",
       "L2  80  49  11  95\n",
       "L3  53  99  54  67\n",
       "L4  99  15  35  25\n",
       "L5  16  61  59  17"
      ]
     },
     "metadata": {},
     "output_type": "display_data"
    }
   ],
   "source": [
    "np.random.seed(100)\n",
    "my_data = np.random.randint(1, 101, (5, 4))\n",
    "df = pd.DataFrame(data=my_data, index=['L1', 'L2', 'L3', 'L4', 'L5'],columns=['A', 'B', 'C', 'D'])\n",
    "display(df)"
   ]
  },
  {
   "cell_type": "code",
   "execution_count": 5,
   "metadata": {},
   "outputs": [
    {
     "data": {
      "text/html": [
       "<div>\n",
       "<style scoped>\n",
       "    .dataframe tbody tr th:only-of-type {\n",
       "        vertical-align: middle;\n",
       "    }\n",
       "\n",
       "    .dataframe tbody tr th {\n",
       "        vertical-align: top;\n",
       "    }\n",
       "\n",
       "    .dataframe thead th {\n",
       "        text-align: right;\n",
       "    }\n",
       "</style>\n",
       "<table border=\"1\" class=\"dataframe\">\n",
       "  <thead>\n",
       "    <tr style=\"text-align: right;\">\n",
       "      <th></th>\n",
       "      <th>A</th>\n",
       "      <th>B</th>\n",
       "      <th>C</th>\n",
       "      <th>D</th>\n",
       "      <th>E</th>\n",
       "    </tr>\n",
       "  </thead>\n",
       "  <tbody>\n",
       "    <tr>\n",
       "      <th>L1</th>\n",
       "      <td>9</td>\n",
       "      <td>25</td>\n",
       "      <td>68</td>\n",
       "      <td>88</td>\n",
       "      <td>34</td>\n",
       "    </tr>\n",
       "    <tr>\n",
       "      <th>L2</th>\n",
       "      <td>80</td>\n",
       "      <td>49</td>\n",
       "      <td>11</td>\n",
       "      <td>95</td>\n",
       "      <td>129</td>\n",
       "    </tr>\n",
       "    <tr>\n",
       "      <th>L3</th>\n",
       "      <td>53</td>\n",
       "      <td>99</td>\n",
       "      <td>54</td>\n",
       "      <td>67</td>\n",
       "      <td>152</td>\n",
       "    </tr>\n",
       "    <tr>\n",
       "      <th>L4</th>\n",
       "      <td>99</td>\n",
       "      <td>15</td>\n",
       "      <td>35</td>\n",
       "      <td>25</td>\n",
       "      <td>114</td>\n",
       "    </tr>\n",
       "    <tr>\n",
       "      <th>L5</th>\n",
       "      <td>16</td>\n",
       "      <td>61</td>\n",
       "      <td>59</td>\n",
       "      <td>17</td>\n",
       "      <td>77</td>\n",
       "    </tr>\n",
       "  </tbody>\n",
       "</table>\n",
       "</div>"
      ],
      "text/plain": [
       "     A   B   C   D    E\n",
       "L1   9  25  68  88   34\n",
       "L2  80  49  11  95  129\n",
       "L3  53  99  54  67  152\n",
       "L4  99  15  35  25  114\n",
       "L5  16  61  59  17   77"
      ]
     },
     "metadata": {},
     "output_type": "display_data"
    }
   ],
   "source": [
    "df['E'] = df['A'] + df['B']\n",
    "display(df)\n"
   ]
  },
  {
   "cell_type": "code",
   "execution_count": 6,
   "metadata": {},
   "outputs": [
    {
     "data": {
      "text/html": [
       "<div>\n",
       "<style scoped>\n",
       "    .dataframe tbody tr th:only-of-type {\n",
       "        vertical-align: middle;\n",
       "    }\n",
       "\n",
       "    .dataframe tbody tr th {\n",
       "        vertical-align: top;\n",
       "    }\n",
       "\n",
       "    .dataframe thead th {\n",
       "        text-align: right;\n",
       "    }\n",
       "</style>\n",
       "<table border=\"1\" class=\"dataframe\">\n",
       "  <thead>\n",
       "    <tr style=\"text-align: right;\">\n",
       "      <th></th>\n",
       "      <th>A</th>\n",
       "      <th>B</th>\n",
       "      <th>C</th>\n",
       "      <th>D</th>\n",
       "      <th>E</th>\n",
       "    </tr>\n",
       "  </thead>\n",
       "  <tbody>\n",
       "    <tr>\n",
       "      <th>L1</th>\n",
       "      <td>9.0</td>\n",
       "      <td>25.0</td>\n",
       "      <td>68.0</td>\n",
       "      <td>88.0</td>\n",
       "      <td>34.0</td>\n",
       "    </tr>\n",
       "    <tr>\n",
       "      <th>L2</th>\n",
       "      <td>80.0</td>\n",
       "      <td>49.0</td>\n",
       "      <td>11.0</td>\n",
       "      <td>95.0</td>\n",
       "      <td>129.0</td>\n",
       "    </tr>\n",
       "    <tr>\n",
       "      <th>L3</th>\n",
       "      <td>53.0</td>\n",
       "      <td>99.0</td>\n",
       "      <td>54.0</td>\n",
       "      <td>67.0</td>\n",
       "      <td>152.0</td>\n",
       "    </tr>\n",
       "    <tr>\n",
       "      <th>L4</th>\n",
       "      <td>99.0</td>\n",
       "      <td>15.0</td>\n",
       "      <td>35.0</td>\n",
       "      <td>25.0</td>\n",
       "      <td>114.0</td>\n",
       "    </tr>\n",
       "    <tr>\n",
       "      <th>L5</th>\n",
       "      <td>16.0</td>\n",
       "      <td>61.0</td>\n",
       "      <td>59.0</td>\n",
       "      <td>17.0</td>\n",
       "      <td>77.0</td>\n",
       "    </tr>\n",
       "    <tr>\n",
       "      <th>Name</th>\n",
       "      <td>51.4</td>\n",
       "      <td>49.8</td>\n",
       "      <td>45.4</td>\n",
       "      <td>58.4</td>\n",
       "      <td>101.2</td>\n",
       "    </tr>\n",
       "  </tbody>\n",
       "</table>\n",
       "</div>"
      ],
      "text/plain": [
       "         A     B     C     D      E\n",
       "L1     9.0  25.0  68.0  88.0   34.0\n",
       "L2    80.0  49.0  11.0  95.0  129.0\n",
       "L3    53.0  99.0  54.0  67.0  152.0\n",
       "L4    99.0  15.0  35.0  25.0  114.0\n",
       "L5    16.0  61.0  59.0  17.0   77.0\n",
       "Name  51.4  49.8  45.4  58.4  101.2"
      ]
     },
     "metadata": {},
     "output_type": "display_data"
    }
   ],
   "source": [
    "# הוספת שורה עם 'Name' באינדקס\n",
    "df.loc['Name'] = np.nan  # יוצרים שורה חדשה עם NaN\n",
    "\n",
    "# איתור השורה שבה האינדקס הוא 'Name' והכנסת הממוצע של כל עמודה מספרית\n",
    "df.loc['Name'] = df.mean()\n",
    "\n",
    "display(df)"
   ]
  },
  {
   "cell_type": "code",
   "execution_count": 7,
   "metadata": {},
   "outputs": [
    {
     "name": "stdout",
     "output_type": "stream",
     "text": [
      "L1        [9.0, 25.0, 34.0, 68.0, 88.0]\n",
      "L2      [11.0, 49.0, 80.0, 95.0, 129.0]\n",
      "L3      [53.0, 54.0, 67.0, 99.0, 152.0]\n",
      "L4      [15.0, 25.0, 35.0, 99.0, 114.0]\n",
      "L5       [16.0, 17.0, 59.0, 61.0, 77.0]\n",
      "Name    [45.4, 49.8, 51.4, 58.4, 101.2]\n",
      "dtype: object\n"
     ]
    }
   ],
   "source": [
    "# מיון העמודות לפי שם (בסדר עולה)\n",
    "df_sorted_rows = df.apply(lambda row: sorted(row), axis=1)\n",
    "print(df_sorted_rows)\n"
   ]
  },
  {
   "cell_type": "code",
   "execution_count": 8,
   "metadata": {},
   "outputs": [
    {
     "name": "stdout",
     "output_type": "stream",
     "text": [
      "         A     B     C     D      E\n",
      "L1     9.0  15.0  11.0  17.0   34.0\n",
      "L2    16.0  25.0  35.0  25.0   77.0\n",
      "L3    51.4  49.0  45.4  58.4  101.2\n",
      "L4    53.0  49.8  54.0  67.0  114.0\n",
      "L5    80.0  61.0  59.0  88.0  129.0\n",
      "Name  99.0  99.0  68.0  95.0  152.0\n"
     ]
    }
   ],
   "source": [
    "df_col_sorted = df.apply(lambda col: sorted(col), axis=0)\n",
    "print(df_col_sorted)\n"
   ]
  },
  {
   "cell_type": "code",
   "execution_count": null,
   "metadata": {},
   "outputs": [],
   "source": []
  }
 ],
 "metadata": {
  "kernelspec": {
   "display_name": "base",
   "language": "python",
   "name": "python3"
  },
  "language_info": {
   "codemirror_mode": {
    "name": "ipython",
    "version": 3
   },
   "file_extension": ".py",
   "mimetype": "text/x-python",
   "name": "python",
   "nbconvert_exporter": "python",
   "pygments_lexer": "ipython3",
   "version": "3.12.7"
  }
 },
 "nbformat": 4,
 "nbformat_minor": 2
}
